{
 "cells": [
  {
   "cell_type": "code",
   "execution_count": 3,
   "metadata": {},
   "outputs": [
    {
     "name": "stdout",
     "output_type": "stream",
     "text": [
      "Requirement already satisfied: pandas in /home/mir/.local/lib/python3.8/site-packages (1.4.1)\n",
      "Requirement already satisfied: python-dateutil>=2.8.1 in /home/mir/.local/lib/python3.8/site-packages (from pandas) (2.8.2)\n",
      "Requirement already satisfied: pytz>=2020.1 in /home/mir/.local/lib/python3.8/site-packages (from pandas) (2023.3.post1)\n",
      "Requirement already satisfied: numpy>=1.18.5; platform_machine != \"aarch64\" and platform_machine != \"arm64\" and python_version < \"3.10\" in /home/mir/.local/lib/python3.8/site-packages (from pandas) (1.22.3)\n",
      "Requirement already satisfied: six>=1.5 in /home/mir/.local/lib/python3.8/site-packages (from python-dateutil>=2.8.1->pandas) (1.12.0)\n"
     ]
    },
    {
     "ename": "ModuleNotFoundError",
     "evalue": "No module named 'pandas'",
     "output_type": "error",
     "traceback": [
      "\u001b[0;31m---------------------------------------------------------------------------\u001b[0m",
      "\u001b[0;31mModuleNotFoundError\u001b[0m                       Traceback (most recent call last)",
      "Cell \u001b[0;32mIn[3], line 5\u001b[0m\n\u001b[1;32m      3\u001b[0m \u001b[39mimport\u001b[39;00m \u001b[39msqlite3\u001b[39;00m\n\u001b[1;32m      4\u001b[0m \u001b[39mimport\u001b[39;00m \u001b[39mcsv\u001b[39;00m\n\u001b[0;32m----> 5\u001b[0m \u001b[39mimport\u001b[39;00m \u001b[39mpandas\u001b[39;00m \u001b[39mas\u001b[39;00m \u001b[39mpd\u001b[39;00m\n\u001b[1;32m      7\u001b[0m basename \u001b[39m=\u001b[39m \u001b[39m'\u001b[39m\u001b[39mreviewusers_mini\u001b[39m\u001b[39m'\u001b[39m\n\u001b[1;32m      8\u001b[0m csv_file_name \u001b[39m=\u001b[39m basename \u001b[39m+\u001b[39m \u001b[39m'\u001b[39m\u001b[39m.csv\u001b[39m\u001b[39m'\u001b[39m\n",
      "\u001b[0;31mModuleNotFoundError\u001b[0m: No module named 'pandas'"
     ]
    }
   ],
   "source": [
    "! pip install pandas\n",
    "\n",
    "import sqlite3\n",
    "import csv\n",
    "import pandas as pd\n",
    "\n",
    "basename = 'reviewusers_mini'\n",
    "csv_file_name = basename + '.csv'\n",
    "db_file_name = basename + '.db'\n",
    "json_file_name = \"restaurants.json\"\n",
    "# creating a connection to the database\n",
    "conn = sqlite3.connect(f'/home/mir/flask_yelp/{db_file_name}')\n",
    "\n",
    "# reading data from the CSV file\n",
    "# df = pd.read_csv(f'/home/mir/flask_yelp/static/csv_files/{csv_file_name}')\n",
    "df = pd.read_json(f'/home/mir/flask_yelp/static/json_files/{json_file_name}')\n",
    "print(df)\n",
    "df = df.applymap(str)\n",
    "df.to_sql(name=f'{basename}',con=conn,index=True, if_exists='replace')\n",
    "conn.close()\n",
    "\n",
    "df\n",
    "\n",
    "\n"
   ]
  },
  {
   "cell_type": "code",
   "execution_count": null,
   "metadata": {},
   "outputs": [],
   "source": []
  }
 ],
 "metadata": {
  "kernelspec": {
   "display_name": "flask_yelp",
   "language": "python",
   "name": "python3"
  },
  "language_info": {
   "codemirror_mode": {
    "name": "ipython",
    "version": 3
   },
   "file_extension": ".py",
   "mimetype": "text/x-python",
   "name": "python",
   "nbconvert_exporter": "python",
   "pygments_lexer": "ipython3",
   "version": "3.8.10"
  },
  "orig_nbformat": 4
 },
 "nbformat": 4,
 "nbformat_minor": 2
}
